{
 "metadata": {
  "language_info": {
   "codemirror_mode": {
    "name": "ipython",
    "version": 3
   },
   "file_extension": ".py",
   "mimetype": "text/x-python",
   "name": "python",
   "nbconvert_exporter": "python",
   "pygments_lexer": "ipython3",
   "version": "3.7.10"
  },
  "orig_nbformat": 4,
  "kernelspec": {
   "name": "python3",
   "display_name": "Python 3.8.6 64-bit ('tf2': conda)"
  },
  "interpreter": {
   "hash": "c2261f3df2972a80505f08078dab8823f6e28fc5b680b9d0aa1c41eb25d20a7a"
  }
 },
 "nbformat": 4,
 "nbformat_minor": 2,
 "cells": [
  {
   "cell_type": "code",
   "execution_count": 13,
   "metadata": {},
   "outputs": [],
   "source": [
    "# load train.txt\n",
    "with open(\"dataset/train.txt\") as f:\n",
    "    # declare an empty list for later saving train data values\n",
    "    train_value = []\n",
    "    predict_value = []\n",
    "\n",
    "    # read the train values line by line\n",
    "    for line in f:\n",
    "        # seperate every sequence number by comma\n",
    "        sep_string = line.split(',')\n",
    "\n",
    "        count = 0\n",
    "\n",
    "        # using slice of list to get the value we acctually need\n",
    "        while(count < 2):\n",
    "            # first and second number sequence need the last three digits\n",
    "            sep_string[count] = sep_string[count][-3:]\n",
    "            count += 1\n",
    "        \n",
    "        # the third number sequence need last four digits and no '\\n'\n",
    "        sep_string[2] = sep_string[2][-5:-1]\n",
    "        train_value.append(sep_string[:2])\n",
    "        predict_value.append(sep_string[-1])"
   ]
  },
  {
   "cell_type": "code",
   "execution_count": 19,
   "metadata": {
    "tags": []
   },
   "outputs": [
    {
     "output_type": "stream",
     "name": "stdout",
     "text": [
      "[686, 617] <class 'int'>\n4983 <class 'int'>\n"
     ]
    }
   ],
   "source": [
    "count = 0\n",
    "while count < len(train_value):\n",
    "    train_value[count] = list(map(int, train_value[count]))\n",
    "    count += 1\n",
    "\n",
    "predict_value = list(map(int, predict_value))\n",
    "\n",
    "print(train_value[0], type(train_value[0][0]))\n",
    "print(predict_value[0], type(predict_value[0]))"
   ]
  },
  {
   "cell_type": "code",
   "execution_count": 49,
   "metadata": {},
   "outputs": [
    {
     "output_type": "stream",
     "name": "stdout",
     "text": [
      "7480\n200000\n50000\n"
     ]
    }
   ],
   "source": [
    "from numpy import array\n",
    "\n",
    "\n",
    "split_percent = 0.80\n",
    "split = int(split_percent*len(train_value))\n",
    "\n",
    "# format as NumPy arrays\n",
    "X, y = array(train_value[:split]), array(predict_value[:split])\n",
    "val_X, val_y = array(train_value[split:]), array(predict_value[split:])\n",
    "\n",
    "largest = max(y)\n",
    "val_largest = max(val_y)\n",
    "\n",
    "n_numbers = 2\n",
    "\n",
    "# normalize\n",
    "X = X.astype('float') / float(largest * n_numbers)\n",
    "y = y.astype('float') / float(largest * n_numbers)\n",
    "\n",
    "val_X = val_X.astype('float') / float(val_largest * n_numbers)\n",
    "val_y = val_y.astype('float') / float(val_largest * n_numbers)\n",
    "\n",
    "print(largest)\n",
    "print(len(X))\n",
    "print(len(val_X))"
   ]
  },
  {
   "cell_type": "code",
   "execution_count": 30,
   "metadata": {},
   "outputs": [
    {
     "output_type": "stream",
     "name": "stdout",
     "text": [
      "4983\n"
     ]
    }
   ],
   "source": [
    "# invert normalization\n",
    "def invert(value, n_numbers, largest):\n",
    "\treturn round(value * float(largest * n_numbers))\n",
    "\n",
    "print(invert(y[0], 2, largest))"
   ]
  },
  {
   "cell_type": "code",
   "execution_count": 85,
   "metadata": {},
   "outputs": [],
   "source": [
    "import keras\n",
    "from keras.models import Sequential\n",
    "from keras.layers import LSTM, Dense\n",
    "\n",
    "# create LSTM\n",
    "model = Sequential()\n",
    "model.add(LSTM(6, input_shape=(n_numbers, 1), return_sequences=True))\n",
    "model.add(LSTM(2))\n",
    "model.add(Dense(1))\n",
    "model.compile(loss='mean_squared_error', optimizer='adam')"
   ]
  },
  {
   "cell_type": "code",
   "execution_count": 86,
   "metadata": {},
   "outputs": [
    {
     "output_type": "stream",
     "name": "stdout",
     "text": [
      "Epoch 1/1\n",
      "200000/200000 [==============================] - 2s 12us/step - loss: 0.0132\n",
      "Epoch 1/1\n",
      "200000/200000 [==============================] - 2s 9us/step - loss: 0.0074\n",
      "Epoch 1/1\n",
      "200000/200000 [==============================] - 2s 9us/step - loss: 0.0022\n",
      "Epoch 1/1\n",
      "200000/200000 [==============================] - 2s 8us/step - loss: 2.5606e-05\n",
      "Epoch 1/1\n",
      "200000/200000 [==============================] - 2s 9us/step - loss: 2.0735e-05\n",
      "Epoch 1/1\n",
      "200000/200000 [==============================] - 2s 9us/step - loss: 1.5853e-05\n",
      "Epoch 1/1\n",
      "200000/200000 [==============================] - 2s 8us/step - loss: 1.1164e-05\n",
      "Epoch 1/1\n",
      "200000/200000 [==============================] - 2s 8us/step - loss: 7.2147e-06\n",
      "Epoch 1/1\n",
      "200000/200000 [==============================] - 2s 8us/step - loss: 4.3238e-06\n",
      "Epoch 1/1\n",
      "200000/200000 [==============================] - 2s 9us/step - loss: 2.6590e-06\n",
      "Epoch 1/1\n",
      "200000/200000 [==============================] - 2s 9us/step - loss: 1.6757e-06\n",
      "Epoch 1/1\n",
      "200000/200000 [==============================] - 2s 8us/step - loss: 1.2664e-06\n",
      "Epoch 1/1\n",
      "200000/200000 [==============================] - 2s 8us/step - loss: 9.7885e-07\n",
      "Epoch 1/1\n",
      "200000/200000 [==============================] - 2s 8us/step - loss: 7.6400e-07\n",
      "Epoch 1/1\n",
      "200000/200000 [==============================] - 2s 9us/step - loss: 5.9134e-07\n",
      "Epoch 1/1\n",
      "200000/200000 [==============================] - 2s 8us/step - loss: 4.5078e-07\n",
      "Epoch 1/1\n",
      "200000/200000 [==============================] - 2s 9us/step - loss: 3.8719e-07\n",
      "Epoch 1/1\n",
      "200000/200000 [==============================] - 2s 9us/step - loss: 3.2197e-07\n",
      "Epoch 1/1\n",
      "200000/200000 [==============================] - 2s 9us/step - loss: 2.6589e-07\n",
      "Epoch 1/1\n",
      "200000/200000 [==============================] - 2s 9us/step - loss: 2.4965e-07\n"
     ]
    }
   ],
   "source": [
    "epochs = 20\n",
    "n_batch = 256\n",
    "n_examples = split\n",
    "\n",
    "# train LSTM\n",
    "for _ in range(epochs):\n",
    "\tX = X.reshape(n_examples, n_numbers, 1)\n",
    "\tmodel.fit(X, y, epochs=1, batch_size=n_batch, verbose=1)"
   ]
  },
  {
   "cell_type": "code",
   "execution_count": 87,
   "metadata": {},
   "outputs": [
    {
     "output_type": "stream",
     "name": "stdout",
     "text": [
      "50000/50000 [==============================] - 1s 10us/step\n"
     ]
    }
   ],
   "source": [
    "# evaluate on validation data\n",
    "val_numbers = len(train_value) - n_examples\n",
    "val_X = val_X.reshape(val_numbers, n_numbers, 1)\n",
    "# print(val_X)\n",
    "val_result = model.predict(val_X, batch_size=n_batch, verbose=1)"
   ]
  },
  {
   "cell_type": "code",
   "execution_count": 103,
   "metadata": {
    "tags": []
   },
   "outputs": [
    {
     "output_type": "stream",
     "name": "stdout",
     "text": [
      "RMSE: 5.504769\n"
     ]
    }
   ],
   "source": [
    "from math import sqrt\n",
    "from sklearn.metrics import mean_squared_error\n",
    "\n",
    "# calculate validation error\n",
    "expected = [invert(x, n_numbers, val_largest) for x in val_y]\n",
    "predicted = [invert(x, n_numbers, val_largest) for x in val_result[:,0]]\n",
    "rmse = sqrt(mean_squared_error(expected, predicted))\n",
    "\n",
    "print('RMSE: %f' % rmse)"
   ]
  },
  {
   "cell_type": "code",
   "execution_count": 89,
   "metadata": {},
   "outputs": [
    {
     "output_type": "stream",
     "name": "stdout",
     "text": [
      "Expected = 1363, Predicted = 1371 (err = -8)\nExpected = 1962, Predicted = 1967 (err = -5)\nExpected = 6813, Predicted = 6814 (err = -1)\nExpected = 4184, Predicted = 4188 (err = -4)\nExpected = 2029, Predicted = 2030 (err = -1)\nExpected = 1354, Predicted = 1361 (err = -7)\nExpected = 5371, Predicted = 5376 (err = -5)\nExpected = 5614, Predicted = 5619 (err = -5)\nExpected = 5568, Predicted = 5577 (err = -9)\nExpected = 3746, Predicted = 3751 (err = -5)\nExpected = 6224, Predicted = 6231 (err = -7)\nExpected = 4956, Predicted = 4960 (err = -4)\nExpected = 2650, Predicted = 2649 (err = 1)\nExpected = 2511, Predicted = 2510 (err = 1)\nExpected = 2965, Predicted = 2964 (err = 1)\nExpected = 3079, Predicted = 3078 (err = 1)\nExpected = 3432, Predicted = 3432 (err = 0)\nExpected = 2523, Predicted = 2522 (err = 1)\nExpected = 3842, Predicted = 3844 (err = -2)\nExpected = 5549, Predicted = 5556 (err = -7)\n"
     ]
    }
   ],
   "source": [
    "# show some examples\n",
    "for i in range(20):\n",
    "\terror = expected[i] - predicted[i]\n",
    "\tprint('Expected = %d, Predicted = %d (err = %d)' % (expected[i], predicted[i], error))"
   ]
  },
  {
   "cell_type": "code",
   "execution_count": null,
   "metadata": {},
   "outputs": [],
   "source": []
  }
 ]
}