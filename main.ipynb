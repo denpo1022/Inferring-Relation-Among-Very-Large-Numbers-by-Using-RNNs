{
 "metadata": {
  "language_info": {
   "codemirror_mode": {
    "name": "ipython",
    "version": 3
   },
   "file_extension": ".py",
   "mimetype": "text/x-python",
   "name": "python",
   "nbconvert_exporter": "python",
   "pygments_lexer": "ipython3",
   "version": "3.7.8"
  },
  "orig_nbformat": 4,
  "kernelspec": {
   "name": "tf2",
   "display_name": "Python 3.7.8 64-bit ('tf2': conda)"
  },
  "interpreter": {
   "hash": "f7a9bf85201c4b4624d52de462158775ffcfcddd315dc4ebe6e7f1d24cc828f3"
  }
 },
 "nbformat": 4,
 "nbformat_minor": 2,
 "cells": [
  {
   "cell_type": "code",
   "execution_count": 1,
   "metadata": {},
   "outputs": [],
   "source": [
    "# use pretty print library to get better output\n",
    "import pprint\n",
    "\n",
    "pp = pprint.PrettyPrinter()"
   ]
  },
  {
   "cell_type": "code",
   "execution_count": 2,
   "metadata": {},
   "outputs": [],
   "source": [
    "# load train.txt\n",
    "with open(\"dataset/train.txt\") as f:\n",
    "    # declare an empty list for later saving train data values\n",
    "    train_value = []\n",
    "    predict_value = []\n",
    "\n",
    "    # read the train values line by line\n",
    "    for line in f:\n",
    "        # seperate every sequence number by comma\n",
    "        sep_string = line.split(',')\n",
    "\n",
    "        count = 0\n",
    "\n",
    "        # using slice of list to get the value we acctually need\n",
    "        while(count < 2):\n",
    "            # first and second number sequence need the last three digits\n",
    "            sep_string[count] = sep_string[count][-3:]\n",
    "            count += 1\n",
    "        \n",
    "        # the third number sequence need last four digits and no '\\n'\n",
    "        sep_string[2] = sep_string[2][-5:-1]\n",
    "        train_value.append(sep_string[:2])\n",
    "        predict_value.append(sep_string[-1])"
   ]
  },
  {
   "cell_type": "code",
   "execution_count": 3,
   "metadata": {},
   "outputs": [
    {
     "output_type": "stream",
     "name": "stdout",
     "text": [
      "[['686', '617'], ['643', '401'], ['375', '414'], ['476', '627'], ['431', '387']]\n"
     ]
    }
   ],
   "source": [
    "# show first five train value\n",
    "pp.pprint(train_value[:5])"
   ]
  },
  {
   "cell_type": "code",
   "execution_count": 4,
   "metadata": {},
   "outputs": [
    {
     "output_type": "stream",
     "name": "stdout",
     "text": [
      "['4983', '2824', '1601', '4023', '1638']\n"
     ]
    }
   ],
   "source": [
    "# show first five predict value\n",
    "pp.pprint(predict_value[:5])"
   ]
  },
  {
   "cell_type": "code",
   "execution_count": 5,
   "metadata": {},
   "outputs": [
    {
     "output_type": "stream",
     "name": "stderr",
     "text": [
      "Using TensorFlow backend.\n"
     ]
    }
   ],
   "source": [
    "import keras\n",
    "import tensorflow as tf\n",
    "from keras.preprocessing.sequence import TimeseriesGenerator"
   ]
  },
  {
   "cell_type": "code",
   "execution_count": null,
   "metadata": {},
   "outputs": [],
   "source": [
    "from keras.models import Sequential\n",
    "from keras.layers import LSTM, Dense\n",
    "\n",
    "\n",
    "model = Sequential()\n",
    "model.add(\n",
    "    LSTM(10,\n",
    "        activation='relu',\n",
    "        input_shape=(look_back,1))\n",
    ")\n",
    "model.add(Dense(1))\n",
    "model.compile(optimizer='adam', loss='mse')\n",
    "\n",
    "num_epochs = 25\n",
    "model.fit_generator(train_generator, epochs=num_epochs, verbose=1)"
   ]
  }
 ]
}